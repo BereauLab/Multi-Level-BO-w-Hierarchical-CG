{
 "cells": [
  {
   "cell_type": "code",
   "execution_count": 1,
   "metadata": {},
   "outputs": [],
   "source": [
    "import numpy as np\n",
    "import torch\n",
    "from torch import nn\n",
    "from torch_geometric.data import Data\n",
    "from torch_geometric.loader import DataLoader\n",
    "from pymongo import MongoClient, UpdateOne, DESCENDING\n",
    "from itertools import permutations\n",
    "from multiprocessing import Pool\n",
    "from chespex.molecules import Molecule"
   ]
  },
  {
   "cell_type": "code",
   "execution_count": 2,
   "metadata": {},
   "outputs": [],
   "source": [
    "n_beads = 4\n",
    "level = 1\n",
    "n_bead_types = [15, 45, 96][level]\n",
    "n_bead_classes = [4, 13, 27][level]\n",
    "client = MongoClient(\"mongodb://localhost:27017\")\n",
    "database = client.get_database(f\"molecules-{n_beads}\")\n",
    "collection = database.get_collection(f\"level-{level}\")"
   ]
  },
  {
   "cell_type": "code",
   "execution_count": 3,
   "metadata": {},
   "outputs": [],
   "source": [
    "def transform(batch):\n",
    "    node_type = nn.functional.one_hot(batch.x[:, 1].to(torch.int64), n_bead_classes)\n",
    "    node_size = nn.functional.one_hot(batch.x[:, 0].to(torch.int64), 3)\n",
    "    node_charge = nn.functional.one_hot(batch.x[:, 2].to(torch.int64), 3)[:,::2]\n",
    "    node_oco_w_tfe = batch.x[:, 3:] / 10 # Octanol-water transfer free energy\n",
    "    batch.x = torch.cat([node_type, node_size, node_charge, node_oco_w_tfe], dim=1)\n",
    "    return batch.cuda()"
   ]
  },
  {
   "cell_type": "code",
   "execution_count": null,
   "metadata": {},
   "outputs": [],
   "source": [
    "model_name = f\"../models/model-{n_beads}-{n_bead_types}-5d.pt\"\n",
    "print(f\"Loading model from {model_name}\")\n",
    "model = torch.load(model_name, weights_only=False)"
   ]
  },
  {
   "cell_type": "code",
   "execution_count": 6,
   "metadata": {},
   "outputs": [],
   "source": [
    "parent_map = [\n",
    "    {\n",
    "        'Q1': 'Q', 'Q2': 'Q',\n",
    "        'P3': 'P', 'P2': 'P', 'P1': 'P',\n",
    "        'N3': 'N', 'N2': 'N', 'N1': 'N',\n",
    "        'C3': 'C', 'C2': 'C', 'C1': 'C', 'X2': 'C', 'X1': 'C'\n",
    "    },\n",
    "    {\n",
    "        'Q5': 'Q2', 'Q4': 'Q2', 'Q3': 'Q2', 'Q2': 'Q1', 'Q1': 'Q1',\n",
    "        'P6': 'P3', 'P5': 'P3', 'P4': 'P2', 'P3': 'P2', 'P2': 'P1', 'P1': 'P1',\n",
    "        'N6': 'N3', 'N5': 'N3', 'N4': 'N2', 'N3': 'N2', 'N2': 'N1', 'N1': 'N1',\n",
    "        'C6': 'C3', 'C5': 'C3', 'C4': 'C2', 'C3': 'C2', 'C2': 'C1', 'C1': 'C1',\n",
    "        'X4': 'X2', 'X3': 'X2', 'X2': 'X1', 'X1': 'X1'\n",
    "    }\n",
    "]"
   ]
  },
  {
   "cell_type": "code",
   "execution_count": 7,
   "metadata": {},
   "outputs": [
    {
     "name": "stdout",
     "output_type": "stream",
     "text": [
      "Processing 6,742,680 / 6,742,680\r"
     ]
    }
   ],
   "source": [
    "filter_query = {}  # {key_name: {\"$exists\": False}}\n",
    "size = collection.count_documents(filter_query) if len(filter_query) > 0 else {2: 136870880, 1: 6742680, 0: 89960}[level]\n",
    "key_name = \"latent_space_test\"\n",
    "\n",
    "molecules = []\n",
    "indices = []\n",
    "for i, mol in enumerate(collection.find(filter_query, batch_size=20_000).sort(\"_id\", DESCENDING)):\n",
    "    node_features = torch.Tensor(mol[\"node_features\"]).to('cuda')\n",
    "    edge_index = torch.Tensor(mol[\"edge_index\"]).to(torch.int64).to(\"cuda\")\n",
    "    torch_graph = Data(x=node_features, edge_index=edge_index)\n",
    "    molecules.append(torch_graph)\n",
    "    indices.append(mol[\"_id\"])\n",
    "    if len(molecules) == 20_000 or i == size - 1:\n",
    "        print(f'Processing {i+1:,} / {size:,}', end=\"\\r\", flush=True)\n",
    "        dataloader = DataLoader(molecules, batch_size=len(molecules), shuffle=False)\n",
    "        batch = next(iter(dataloader))\n",
    "        batch = transform(batch)\n",
    "        with torch.no_grad():\n",
    "            latent_space = torch.fmod(model.encoder(batch), 5)\n",
    "        update_list = []\n",
    "        for idx, space in zip(indices, latent_space):\n",
    "            update = {key_name: space.tolist()}\n",
    "            update_list.append(UpdateOne({\"_id\": idx}, {\"$set\": update}))\n",
    "        res = collection.bulk_write(update_list)\n",
    "        molecules = []\n",
    "        indices = []"
   ]
  },
  {
   "cell_type": "code",
   "execution_count": null,
   "metadata": {},
   "outputs": [
    {
     "name": "stdout",
     "output_type": "stream",
     "text": [
      "_id: 666f2642ab68cb0585610d42\n",
      "name: Q2+,\n",
      "bead_names: ['Q2+']\n",
      "node_features: [[0.0, 0.0, 2.0, -19.73332977294922]]\n",
      "edge_index: [[], []]\n",
      "latent_space: [1.2288522720336914, 2.4856317043304443, 2.344226360321045, -2.741889476776123, 5.2077131271362305]\n",
      "parent: Q+,\n",
      "group: 11 6 12 5 11\n",
      "latent_space_test: [0.524034321308136, -3.7589316368103027, 1.5780901908874512, -0.3245792090892792, -2.533147096633911, -0.5984180569648743, -2.137758493423462, 4.545452117919922, -2.7681477069854736, 0.33618515729904175]\n"
     ]
    }
   ],
   "source": [
    "# Extract example molecule\n",
    "for k, v in collection.find_one().items():\n",
    "    print(f'{k}: {v}')"
   ]
  },
  {
   "cell_type": "code",
   "execution_count": 9,
   "metadata": {},
   "outputs": [],
   "source": [
    "client.close()"
   ]
  }
 ],
 "metadata": {
  "kernelspec": {
   "display_name": "uvenv-ml",
   "language": "python",
   "name": "python3"
  },
  "language_info": {
   "codemirror_mode": {
    "name": "ipython",
    "version": 3
   },
   "file_extension": ".py",
   "mimetype": "text/x-python",
   "name": "python",
   "nbconvert_exporter": "python",
   "pygments_lexer": "ipython3",
   "version": "3.11.2"
  }
 },
 "nbformat": 4,
 "nbformat_minor": 2
}
