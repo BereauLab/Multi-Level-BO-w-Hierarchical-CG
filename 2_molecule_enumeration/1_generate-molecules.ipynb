{
 "cells": [
  {
   "cell_type": "code",
   "execution_count": 1,
   "id": "852ac2fd-64ae-455d-ab06-0b9a92544526",
   "metadata": {},
   "outputs": [],
   "source": [
    "import json\n",
    "import re\n",
    "import numpy as np\n",
    "import torch_geometric as tg\n",
    "from pymongo import MongoClient, InsertOne\n",
    "import pymongo\n",
    "from chespex.molecules import MoleculeGenerator"
   ]
  },
  {
   "cell_type": "code",
   "execution_count": null,
   "id": "efcefd98",
   "metadata": {},
   "outputs": [],
   "source": [
    "n_beads = 4\n",
    "client = MongoClient(\"mongodb://localhost:27017\")\n",
    "database = client.get_database(f\"molecules-{n_beads}\")"
   ]
  },
  {
   "cell_type": "code",
   "execution_count": 5,
   "id": "c470981e-e3ed-46c9-b749-c1f7476a5495",
   "metadata": {},
   "outputs": [],
   "source": [
    "level = 2\n",
    "with open('../bead_types/bead-types.json', 'r') as bead_types_file:\n",
    "    all_bead_types = json.load(bead_types_file)\n",
    "bead_types = all_bead_types[level]"
   ]
  },
  {
   "cell_type": "code",
   "execution_count": 6,
   "id": "a507b361-6a80-4e14-ad0e-3858111b2ccb",
   "metadata": {},
   "outputs": [
    {
     "name": "stdout",
     "output_type": "stream",
     "text": [
      "['Q5', 'Q4', 'Q3', 'Q2', 'Q1', 'P6', 'P5', 'P4', 'P3', 'P2', 'P1', 'N6', 'N5', 'N4', 'N3', 'N2', 'N1', 'C6', 'C5', 'C4', 'C3', 'C2', 'C1', 'X4', 'X3', 'X2', 'X1']\n"
     ]
    }
   ],
   "source": [
    "bead_class_names = sorted(list(set([re.sub('[ST+-]', '', b['name']) for b in bead_types])), key=lambda x: ['Q','P','N','C','X'].index(x[0]) * 20 - (int(x[1:]) if len(x) > 1 else 0))\n",
    "print(bead_class_names)"
   ]
  },
  {
   "cell_type": "code",
   "execution_count": 9,
   "id": "8e1f2d4f-34eb-48ab-91f5-8e13b74d3085",
   "metadata": {},
   "outputs": [
    {
     "name": "stdout",
     "output_type": "stream",
     "text": [
      "Number of bead types: 96\n",
      "Feature dimension: 33\n"
     ]
    }
   ],
   "source": [
    "n_bead_sizes=3\n",
    "charged_beads=5\n",
    "n_bead_types=len(bead_types)\n",
    "print(f'Number of bead types: {n_bead_types}')\n",
    "n_bead_classes = n_bead_types // n_bead_sizes - (charged_beads)\n",
    "assert n_bead_classes == len(bead_class_names), f'Inconsistent number of bead classes, bead sizes, and max charged index: {n_bead_classes} != {len(bead_class_names)}'\n",
    "latent_dim=5\n",
    "feature_dim = n_bead_classes + n_bead_sizes + 2 + 1 # bead class, bead size, charge, octanol-water transfer free energy\n",
    "print(f'Feature dimension: {feature_dim}')"
   ]
  },
  {
   "cell_type": "code",
   "execution_count": 7,
   "id": "31883f3c",
   "metadata": {},
   "outputs": [],
   "source": [
    "collection = database.get_collection(f\"level-{level}\")"
   ]
  },
  {
   "cell_type": "code",
   "execution_count": null,
   "id": "a906b2f7",
   "metadata": {},
   "outputs": [
    {
     "name": "stdout",
     "output_type": "stream",
     "text": [
      "19040000\r"
     ]
    }
   ],
   "source": [
    "molecule_generator = MoleculeGenerator(n_beads, bead_types)\n",
    "molecule_inserts = []\n",
    "for i, molecule in enumerate(molecule_generator.generate()):\n",
    "    tg_molecule = molecule.as_torch_graph()\n",
    "    bead_names = [b['name'] for b in molecule.beads]\n",
    "    mol = {\n",
    "        'name': str(molecule),\n",
    "        'bead_names': bead_names,\n",
    "        'node_features': tg_molecule.x.tolist(),\n",
    "        'edge_index': tg_molecule.edge_index.tolist()\n",
    "    }\n",
    "    molecule_inserts.append(InsertOne(mol))\n",
    "    if len(molecule_inserts) == 10_000:\n",
    "        print(i, end=\"\\r\")\n",
    "        collection.bulk_write(molecule_inserts)\n",
    "        molecule_inserts = []"
   ]
  },
  {
   "cell_type": "code",
   "execution_count": 8,
   "id": "574abf8c",
   "metadata": {},
   "outputs": [
    {
     "name": "stdout",
     "output_type": "stream",
     "text": [
      "136870880\n"
     ]
    }
   ],
   "source": [
    "collection_size = collection.count_documents({})\n",
    "print(collection_size)"
   ]
  },
  {
   "cell_type": "code",
   "execution_count": null,
   "id": "d8f84636",
   "metadata": {},
   "outputs": [
    {
     "name": "stdout",
     "output_type": "stream",
     "text": [
      "P3 Q4+ SP3 SQ2-,0-1 0-2 2-3\n",
      "N2 SN3 SQ5- X4,0-1 0-2 0-3 1-3 2-3\n",
      "SC3 SP3 TC2 TX2,0-1 0-2 0-3 1-2 1-3 2-3\n",
      "SC2 SQ1+ TQ2- TQ4+,0-2 1-2 1-3\n",
      "Q3+ SQ4- SX1 TX4,0-2 0-3 1-2 2-3\n",
      "SQ2+ TC5 TQ5+ TX1,0-2 1-2 2-3\n",
      "N5 SN3 TC2 TN1,0-2 1-2 2-3\n",
      "C5 N5 TQ1+ TQ1-,0-2 0-3 1-2\n",
      "SN1 SQ4- SQ5+ SX3,0-1 0-2 0-3 1-3 2-3\n",
      "SQ5- TC5 TX3 X3,0-2 1-2 1-3 2-3\n"
     ]
    }
   ],
   "source": [
    "names = []\n",
    "cursor = collection.aggregate([{\"$sample\": {\"size\": collection_size}}])\n",
    "for i, mol in enumerate(cursor):\n",
    "    if i < 10:\n",
    "        print(mol['name'])\n",
    "    if i < 10_000:\n",
    "        names.append(mol['name'])\n",
    "    graph = tg.data.Data(x=mol['node_features'], edge_index=mol['edge_index'])\n",
    "    if i == 20_000:\n",
    "        break"
   ]
  },
  {
   "cell_type": "code",
   "execution_count": null,
   "id": "efa3c754",
   "metadata": {},
   "outputs": [],
   "source": [
    "client.close()"
   ]
  }
 ],
 "metadata": {
  "kernelspec": {
   "display_name": "uvenv-ml",
   "language": "python",
   "name": "python3"
  },
  "language_info": {
   "codemirror_mode": {
    "name": "ipython",
    "version": 3
   },
   "file_extension": ".py",
   "mimetype": "text/x-python",
   "name": "python",
   "nbconvert_exporter": "python",
   "pygments_lexer": "ipython3",
   "version": "3.11.2"
  }
 },
 "nbformat": 4,
 "nbformat_minor": 5
}
