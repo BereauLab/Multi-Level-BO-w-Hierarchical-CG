{
 "cells": [
  {
   "cell_type": "code",
   "execution_count": 1,
   "metadata": {
    "execution": {
     "iopub.execute_input": "2024-11-06T13:59:34.734317Z",
     "iopub.status.busy": "2024-11-06T13:59:34.734211Z",
     "iopub.status.idle": "2024-11-06T13:59:36.598808Z",
     "shell.execute_reply": "2024-11-06T13:59:36.598426Z"
    }
   },
   "outputs": [],
   "source": [
    "from datetime import datetime\n",
    "import numpy as np\n",
    "import torch\n",
    "from torch import nn\n",
    "from torch_geometric.data import Data\n",
    "from torch_geometric.loader import DataLoader\n",
    "from pymongo import MongoClient, UpdateOne\n",
    "from itertools import permutations\n",
    "from chespex.molecules import Molecule"
   ]
  },
  {
   "cell_type": "code",
   "execution_count": 2,
   "metadata": {
    "execution": {
     "iopub.execute_input": "2024-11-06T13:59:36.601344Z",
     "iopub.status.busy": "2024-11-06T13:59:36.601135Z",
     "iopub.status.idle": "2024-11-06T13:59:36.605460Z",
     "shell.execute_reply": "2024-11-06T13:59:36.605015Z"
    }
   },
   "outputs": [],
   "source": [
    "n_beads = 4\n",
    "n_bead_types = 96\n",
    "n_bead_classes = 27\n",
    "level = 2\n",
    "client = MongoClient(\"mongodb://localhost:27017\")\n",
    "database = client.get_database(f\"molecules-{n_beads}\")\n",
    "collection = database.get_collection(f\"level-{level}\")"
   ]
  },
  {
   "cell_type": "code",
   "execution_count": 3,
   "metadata": {
    "execution": {
     "iopub.execute_input": "2024-11-06T13:59:36.606979Z",
     "iopub.status.busy": "2024-11-06T13:59:36.606831Z",
     "iopub.status.idle": "2024-11-06T13:59:36.609544Z",
     "shell.execute_reply": "2024-11-06T13:59:36.609274Z"
    }
   },
   "outputs": [],
   "source": [
    "parent_map = [\n",
    "    {\n",
    "        'Q1': 'Q', 'Q2': 'Q',\n",
    "        'P3': 'P', 'P2': 'P', 'P1': 'P',\n",
    "        'N3': 'N', 'N2': 'N', 'N1': 'N',\n",
    "        'C3': 'C', 'C2': 'C', 'C1': 'C', 'X2': 'C', 'X1': 'C'\n",
    "    },\n",
    "    {\n",
    "        'Q5': 'Q2', 'Q4': 'Q2', 'Q3': 'Q2', 'Q2': 'Q1', 'Q1': 'Q1',\n",
    "        'P6': 'P3', 'P5': 'P3', 'P4': 'P2', 'P3': 'P2', 'P2': 'P1', 'P1': 'P1',\n",
    "        'N6': 'N3', 'N5': 'N3', 'N4': 'N2', 'N3': 'N2', 'N2': 'N1', 'N1': 'N1',\n",
    "        'C6': 'C3', 'C5': 'C3', 'C4': 'C2', 'C3': 'C2', 'C2': 'C1', 'C1': 'C1',\n",
    "        'X4': 'X2', 'X3': 'X2', 'X2': 'X1', 'X1': 'X1'\n",
    "    }\n",
    "]"
   ]
  },
  {
   "cell_type": "code",
   "execution_count": null,
   "metadata": {
    "execution": {
     "iopub.execute_input": "2024-11-06T13:59:36.611021Z",
     "iopub.status.busy": "2024-11-06T13:59:36.610781Z",
     "iopub.status.idle": "2024-11-06T21:40:08.913238Z",
     "shell.execute_reply": "2024-11-06T21:40:08.912436Z"
    }
   },
   "outputs": [],
   "source": [
    "# Set parents\n",
    "if level > 0:\n",
    "    parent_collection = database.get_collection(f\"level-{level - 1}\")\n",
    "    update_list = []\n",
    "    for mol_idx, mol in enumerate(collection.find()):\n",
    "        # Reconstruct parent molecule\n",
    "        parent_beads = []\n",
    "        for bead in mol['bead_names']:\n",
    "            for k, v in reversed(parent_map[level - 1].items()):\n",
    "                bead = bead.replace(k, v)\n",
    "            parent_beads.append(bead)\n",
    "        parent_molecule = str(Molecule.reconstruct(\n",
    "            parent_beads, [[] for _ in range(len(parent_beads))], mol['edge_index'], []\n",
    "        ))\n",
    "        # Update parent molecule\n",
    "        if parent_collection.find_one({\"name\": parent_molecule}):\n",
    "            update_list.append(UpdateOne({\"_id\": mol[\"_id\"]}, {\"$set\": {\"parent\": parent_molecule}}))\n",
    "        else:\n",
    "            beads_string, bonds_string = parent_molecule.split(\",\")\n",
    "            beads = beads_string.split()\n",
    "            valid_permutations = []\n",
    "            for permutation in permutations(range(len(beads))):\n",
    "                new_beads = [beads[i] for i in permutation]\n",
    "                if beads == new_beads:\n",
    "                    valid_permutations.append(permutation)\n",
    "            result = []\n",
    "            for permutation in valid_permutations:\n",
    "                new_bonds_string = bonds_string\n",
    "                for i, j in enumerate(permutation):\n",
    "                    if i != j:\n",
    "                        new_bonds_string = new_bonds_string.replace(str(i), chr(j + 65))\n",
    "                for j in permutation:\n",
    "                    new_bonds_string = new_bonds_string.replace(chr(j + 65), str(j))\n",
    "                new_bonds_string = ' '.join(sorted(['-'.join(sorted(b.split('-'))) for b in new_bonds_string.split()]))\n",
    "                result.append(beads_string + \",\" + new_bonds_string)\n",
    "            found_parent = False\n",
    "            for new_parent in result:\n",
    "                if parent_collection.find_one({\"name\": new_parent}):\n",
    "                    update_list.append(UpdateOne({\"_id\": mol[\"_id\"]}, {\"$set\": {\"parent\": new_parent}}))\n",
    "                    found_parent = True\n",
    "                    break\n",
    "            if not found_parent:\n",
    "                print(f\"Parent not found for {mol['name']}: {result}\")\n",
    "        if len(update_list) > 1000:\n",
    "            print(mol_idx, end=\"\\r\", flush=True)\n",
    "            collection.bulk_write(update_list)\n",
    "            update_list = []\n",
    "        if mol_idx % 100000 == 0:\n",
    "            with open('parent-update.log', 'a') as f:\n",
    "                f.write(f\"{datetime.now()}: {mol_idx}\\n\")\n",
    "    if len(update_list) > 0:\n",
    "        collection.bulk_write(update_list)"
   ]
  }
 ],
 "metadata": {
  "kernelspec": {
   "display_name": "uvenv-ml",
   "language": "python",
   "name": "python3"
  },
  "language_info": {
   "codemirror_mode": {
    "name": "ipython",
    "version": 3
   },
   "file_extension": ".py",
   "mimetype": "text/x-python",
   "name": "python",
   "nbconvert_exporter": "python",
   "pygments_lexer": "ipython3",
   "version": "3.11.2"
  }
 },
 "nbformat": 4,
 "nbformat_minor": 2
}
