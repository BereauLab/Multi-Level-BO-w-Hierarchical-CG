{
 "cells": [
  {
   "cell_type": "code",
   "execution_count": null,
   "metadata": {
    "execution": {
     "iopub.execute_input": "2024-11-04T22:10:19.146429Z",
     "iopub.status.busy": "2024-11-04T22:10:19.146299Z",
     "iopub.status.idle": "2024-11-04T22:10:21.101220Z",
     "shell.execute_reply": "2024-11-04T22:10:21.100591Z"
    }
   },
   "outputs": [],
   "source": [
    "import numpy as np\n",
    "import matplotlib.pyplot as plt\n",
    "from tqdm.notebook import tqdm\n",
    "import torch\n",
    "import torch.nn as nn\n",
    "import torch.optim as optim\n",
    "import torch_geometric as tg\n",
    "from torch_geometric.loader import DataLoader\n",
    "from pymongo import MongoClient\n",
    "from chespex.encoding import Encoder, Decoder, Autoencoder, graph_loss, prediction_to_molecules"
   ]
  },
  {
   "cell_type": "code",
   "execution_count": 8,
   "metadata": {
    "execution": {
     "iopub.execute_input": "2024-11-04T22:10:21.103123Z",
     "iopub.status.busy": "2024-11-04T22:10:21.102904Z",
     "iopub.status.idle": "2024-11-04T22:10:21.106634Z",
     "shell.execute_reply": "2024-11-04T22:10:21.106215Z"
    }
   },
   "outputs": [
    {
     "name": "stdout",
     "output_type": "stream",
     "text": [
      "Feature dimension: 11\n"
     ]
    }
   ],
   "source": [
    "# Level dependent parameters\n",
    "level = 0\n",
    "n_bead_classes = [5, 13][level]\n",
    "n_bead_types = [15, 45][level]\n",
    "latent_dim = [4, 5, 5][level]\n",
    "number_of_molecules = [89960, 6742680, 136870880][level]\n",
    "embedding_dim = [128, 256, 512][level]\n",
    "encoder_dim = [128, 64, 64][level]\n",
    "node_hidden_dims = [[1024, 1024], [1024, 1024, 1024], [2048, 1024, 1024]][level]\n",
    "encoded_node_dims = [[128, 32], [256, 32], [512, 32]][level]\n",
    "log_steps = [10, 100, 1000][level]\n",
    "batches_per_query = [3, 20, 20][level]\n",
    "# Fixed parameters\n",
    "n_beads = 4\n",
    "n_bead_sizes = 3\n",
    "feature_dim = n_bead_classes + n_bead_sizes + 2 + 1 # bead class, bead size, charge, octanol-water transfer free energy\n",
    "print(f'Feature dimension: {feature_dim}')"
   ]
  },
  {
   "cell_type": "code",
   "execution_count": 9,
   "metadata": {
    "execution": {
     "iopub.execute_input": "2024-11-04T22:10:21.125192Z",
     "iopub.status.busy": "2024-11-04T22:10:21.125042Z",
     "iopub.status.idle": "2024-11-04T22:10:21.129442Z",
     "shell.execute_reply": "2024-11-04T22:10:21.128903Z"
    }
   },
   "outputs": [],
   "source": [
    "def as_torch_geometric_data(db_molecule):\n",
    "    return tg.data.Data(x=torch.Tensor(db_molecule[\"node_features\"]), edge_index=torch.Tensor(db_molecule[\"edge_index\"]).to(torch.int64))\n",
    "\n",
    "def transform(batch):\n",
    "    node_type = nn.functional.one_hot(batch.x[:, 1].to(torch.int64), n_bead_classes)\n",
    "    node_size = nn.functional.one_hot(batch.x[:, 0].to(torch.int64), 3)\n",
    "    node_charge = nn.functional.one_hot(batch.x[:, 2].to(torch.int64), 3)[:,::2]\n",
    "    node_oco_w_tfe = batch.x[:, 3:] / 10 # Octanol-water transfer free energy\n",
    "    batch.x = torch.cat([node_type, node_size, node_charge, node_oco_w_tfe], dim=1)\n",
    "    return batch.cuda()\n",
    "\n",
    "class MoleculeDataset(torch.utils.data.IterableDataset):\n",
    "    BATCH_SIZE = 8192*2\n",
    "    def __iter__(self):\n",
    "        client = MongoClient(\"mongodb://localhost:27017\")\n",
    "        database = client.get_database(f\"molecules-4\")\n",
    "        collection = database.get_collection(f\"level-{level}\")\n",
    "        for _ in range(int(number_of_molecules / MoleculeDataset.BATCH_SIZE / batches_per_query)):\n",
    "            queue = collection.aggregate([{\"$sample\": {\"size\": MoleculeDataset.BATCH_SIZE * batches_per_query}}])\n",
    "            for db_molecule in queue:\n",
    "                yield as_torch_geometric_data(db_molecule)\n",
    "        client.close()"
   ]
  },
  {
   "cell_type": "code",
   "execution_count": 10,
   "metadata": {
    "execution": {
     "iopub.execute_input": "2024-11-04T22:10:21.130952Z",
     "iopub.status.busy": "2024-11-04T22:10:21.130824Z",
     "iopub.status.idle": "2024-11-04T22:10:21.291908Z",
     "shell.execute_reply": "2024-11-04T22:10:21.291077Z"
    }
   },
   "outputs": [
    {
     "name": "stdout",
     "output_type": "stream",
     "text": [
      "Model has 2349786 trainable parameters\n"
     ]
    }
   ],
   "source": [
    "encoder = Encoder(\n",
    "\tnode_feature_dim=feature_dim,\n",
    "\tembedding_dim=embedding_dim,\n",
    "\tencoder_dim=encoder_dim,\n",
    "  \tmessage_passing_steps=3,\n",
    "    latent_dim=latent_dim\n",
    ")\n",
    "decoder = Decoder(\n",
    "    n_nodes=n_beads,\n",
    "    node_feature_dim=feature_dim,\n",
    "    latent_dim=latent_dim,\n",
    "    node_hidden_dims=node_hidden_dims,\n",
    "    encoded_node_dims=encoded_node_dims,\n",
    "    edge_prelayer_dims=[512, 512],\n",
    "    edge_hidden_dims=[512, 512],\n",
    ")\n",
    "model = Autoencoder(encoder, decoder).to('cuda')\n",
    "params_count = sum(p.numel() for p in model.parameters() if p.requires_grad)\n",
    "print(f\"Model has {params_count} trainable parameters\")\n",
    "\n",
    "dataset = MoleculeDataset()\n",
    "dataloader = DataLoader(dataset, batch_size=MoleculeDataset.BATCH_SIZE, num_workers=8)\n",
    "\n",
    "optimizer = optim.Adam([\n",
    "    {'params': model.encoder.parameters()},\n",
    "    {'params': model.decoder.parameters(), 'weight_decay': 0.0001},\n",
    "], weight_decay=0, lr=1e-3)"
   ]
  },
  {
   "cell_type": "code",
   "execution_count": 11,
   "metadata": {
    "execution": {
     "iopub.execute_input": "2024-11-04T22:10:21.294106Z",
     "iopub.status.busy": "2024-11-04T22:10:21.293985Z",
     "iopub.status.idle": "2024-11-04T22:10:21.296108Z",
     "shell.execute_reply": "2024-11-04T22:10:21.295789Z"
    }
   },
   "outputs": [],
   "source": [
    "#model = torch.load(f\"model-4-{n_bead_types}-try1.pt\")\n",
    "#print(model)"
   ]
  },
  {
   "cell_type": "code",
   "execution_count": 12,
   "metadata": {
    "execution": {
     "iopub.execute_input": "2024-11-04T22:10:21.297781Z",
     "iopub.status.busy": "2024-11-04T22:10:21.297626Z",
     "iopub.status.idle": "2024-11-04T22:10:24.601435Z",
     "shell.execute_reply": "2024-11-04T22:10:24.601014Z"
    }
   },
   "outputs": [
    {
     "name": "stdout",
     "output_type": "stream",
     "text": [
      "Loss: 7.451411247253418\n"
     ]
    }
   ],
   "source": [
    "# Test the model input and output\n",
    "for batch in dataloader:\n",
    "\tbatch = transform(batch)\n",
    "\tpredicted_nodes, predicted_adjacency_matrix = model(batch)\n",
    "\tloss = graph_loss(batch, predicted_nodes, predicted_adjacency_matrix, n_bead_classes)\n",
    "\tprint(f\"Loss: {loss.item()}\")\n",
    "\tbreak"
   ]
  },
  {
   "cell_type": "code",
   "execution_count": 13,
   "metadata": {
    "execution": {
     "iopub.execute_input": "2024-11-04T22:10:24.603629Z",
     "iopub.status.busy": "2024-11-04T22:10:24.603456Z",
     "iopub.status.idle": "2024-11-04T22:10:24.605398Z",
     "shell.execute_reply": "2024-11-04T22:10:24.605102Z"
    }
   },
   "outputs": [],
   "source": [
    "loss_history = []\n",
    "accuracy_history = []"
   ]
  },
  {
   "cell_type": "code",
   "execution_count": null,
   "metadata": {
    "execution": {
     "iopub.execute_input": "2024-11-04T22:10:24.606902Z",
     "iopub.status.busy": "2024-11-04T22:10:24.606743Z",
     "iopub.status.idle": "2024-11-05T00:02:30.803689Z",
     "shell.execute_reply": "2024-11-05T00:02:30.803313Z"
    }
   },
   "outputs": [],
   "source": [
    "try:\n",
    "    model.train()\n",
    "    temp_loss_history = []\n",
    "    temp_accuracy_history = []\n",
    "    for epoch in tqdm(range(1000)):\n",
    "        for bidx, batch in enumerate(dataloader):\n",
    "            batch = transform(batch)\n",
    "            optimizer.zero_grad(set_to_none=True)\n",
    "            nodes, adjacency_matrix, latent_space = model(batch, return_latent_space=True)\n",
    "            latent_space_loss = 0.0001 * torch.linalg.vector_norm(latent_space, dim=1).mean()\n",
    "            loss, accuracy = graph_loss(batch, nodes, adjacency_matrix, return_accuracy=True)\n",
    "            total_loss = loss + latent_space_loss\n",
    "            total_loss.backward()\n",
    "            optimizer.step()\n",
    "            temp_loss_history.append(total_loss.item())\n",
    "            temp_accuracy_history.append(accuracy.tolist())\n",
    "            if len(temp_loss_history) == 5:\n",
    "                loss_history.append(np.mean(temp_loss_history))\n",
    "                accuracy_history.append(np.nanmean(temp_accuracy_history, axis=0))\n",
    "                temp_loss_history = []\n",
    "                temp_accuracy_history = []\n",
    "                accuracy_text = ', '.join([f'{n}: {an:.3f}' for n, an in zip(['edges', 'class', 'size', 'charge'], accuracy_history[-1])])\n",
    "                print(f'Training epoch {epoch+1}, step {bidx}, LOSS: {loss_history[-1]:.4f}, ACCURACY: {accuracy_text}', end='\\r')\n",
    "                if len(loss_history) % (log_steps // 5) == 0:\n",
    "                    with open(f'train-{n_bead_types}.log', 'a') as log_file:\n",
    "                        log_file.write(f'Epoch {epoch+1}, STEP: {bidx+1}, LOSS: {loss_history[-1]:.4f}, ACCURACY: {accuracy_text}\\n')\n",
    "except KeyboardInterrupt:\n",
    "    print('Training interrupted')\n",
    "    pass\n",
    "finally:\n",
    "    pass\n",
    "    torch.save(model, f\"model-4-{n_bead_types}.pt\")\n",
    "    print('Model saved')\n",
    "    with open(f'train-{n_bead_types}.log', 'a') as log_file:\n",
    "        log_file.write(f'Model saved\\n')"
   ]
  },
  {
   "cell_type": "code",
   "execution_count": null,
   "metadata": {
    "execution": {
     "iopub.execute_input": "2024-11-05T00:02:30.805492Z",
     "iopub.status.busy": "2024-11-05T00:02:30.805358Z",
     "iopub.status.idle": "2024-11-05T00:02:31.051560Z",
     "shell.execute_reply": "2024-11-05T00:02:31.051242Z"
    }
   },
   "outputs": [],
   "source": [
    "plt.figure(figsize=(8, 3))\n",
    "colors = plt.rcParams['axes.prop_cycle'].by_key()['color']\n",
    "l, = plt.plot(loss_history, color=colors[0])\n",
    "lines = [l]\n",
    "plt.xlabel('Epoch')\n",
    "plt.ylabel('Loss')\n",
    "twx = plt.gca().twinx()\n",
    "for i, acc in enumerate(np.array(accuracy_history).T):\n",
    "    l, = twx.plot(acc, color=colors[i+1])\n",
    "    lines.append(l)\n",
    "plt.ylabel('Accuracy')\n",
    "plt.grid(alpha=0.3)\n",
    "plt.legend(lines, ['Loss', 'Edges', 'Class', 'Size', 'Charge'], loc=(0.77,0.14))\n",
    "plt.show()"
   ]
  },
  {
   "cell_type": "code",
   "execution_count": 10,
   "metadata": {
    "execution": {
     "iopub.execute_input": "2024-11-05T00:02:31.053660Z",
     "iopub.status.busy": "2024-11-05T00:02:31.053527Z",
     "iopub.status.idle": "2024-11-05T00:02:31.066492Z",
     "shell.execute_reply": "2024-11-05T00:02:31.066219Z"
    }
   },
   "outputs": [],
   "source": [
    "torch.save(model, f'model-4-{n_bead_types}.pt')"
   ]
  }
 ],
 "metadata": {
  "kernelspec": {
   "display_name": "Python 3",
   "language": "python",
   "name": "python3"
  },
  "language_info": {
   "codemirror_mode": {
    "name": "ipython",
    "version": 3
   },
   "file_extension": ".py",
   "mimetype": "text/x-python",
   "name": "python",
   "nbconvert_exporter": "python",
   "pygments_lexer": "ipython3",
   "version": "3.11.7"
  },
  "widgets": {
   "application/vnd.jupyter.widget-state+json": {
    "state": {
     "0db536d8bd2c4ec78a7f54104d290425": {
      "model_module": "@jupyter-widgets/controls",
      "model_module_version": "2.0.0",
      "model_name": "HTMLModel",
      "state": {
       "_dom_classes": [],
       "_model_module": "@jupyter-widgets/controls",
       "_model_module_version": "2.0.0",
       "_model_name": "HTMLModel",
       "_view_count": null,
       "_view_module": "@jupyter-widgets/controls",
       "_view_module_version": "2.0.0",
       "_view_name": "HTMLView",
       "description": "",
       "description_allow_html": false,
       "layout": "IPY_MODEL_f9f1394763f5442f969b8f5761d1e79e",
       "placeholder": "​",
       "style": "IPY_MODEL_cccf9a53d6e1406ebb3203abbde93ab0",
       "tabbable": null,
       "tooltip": null,
       "value": "100%"
      }
     },
     "125256f97ce1454fb446f3131a0f0bc7": {
      "model_module": "@jupyter-widgets/controls",
      "model_module_version": "2.0.0",
      "model_name": "HBoxModel",
      "state": {
       "_dom_classes": [],
       "_model_module": "@jupyter-widgets/controls",
       "_model_module_version": "2.0.0",
       "_model_name": "HBoxModel",
       "_view_count": null,
       "_view_module": "@jupyter-widgets/controls",
       "_view_module_version": "2.0.0",
       "_view_name": "HBoxView",
       "box_style": "",
       "children": [
        "IPY_MODEL_0db536d8bd2c4ec78a7f54104d290425",
        "IPY_MODEL_a391867577ed471ba65dc90c7e505fff",
        "IPY_MODEL_9b0bf227da41434d9398cd041386895b"
       ],
       "layout": "IPY_MODEL_8d82f9eb6a0c49809cd8bb8cb5e48e28",
       "tabbable": null,
       "tooltip": null
      }
     },
     "32380e3706fe4880ad0632891de63904": {
      "model_module": "@jupyter-widgets/controls",
      "model_module_version": "2.0.0",
      "model_name": "ProgressStyleModel",
      "state": {
       "_model_module": "@jupyter-widgets/controls",
       "_model_module_version": "2.0.0",
       "_model_name": "ProgressStyleModel",
       "_view_count": null,
       "_view_module": "@jupyter-widgets/base",
       "_view_module_version": "2.0.0",
       "_view_name": "StyleView",
       "bar_color": null,
       "description_width": ""
      }
     },
     "8d82f9eb6a0c49809cd8bb8cb5e48e28": {
      "model_module": "@jupyter-widgets/base",
      "model_module_version": "2.0.0",
      "model_name": "LayoutModel",
      "state": {
       "_model_module": "@jupyter-widgets/base",
       "_model_module_version": "2.0.0",
       "_model_name": "LayoutModel",
       "_view_count": null,
       "_view_module": "@jupyter-widgets/base",
       "_view_module_version": "2.0.0",
       "_view_name": "LayoutView",
       "align_content": null,
       "align_items": null,
       "align_self": null,
       "border_bottom": null,
       "border_left": null,
       "border_right": null,
       "border_top": null,
       "bottom": null,
       "display": null,
       "flex": null,
       "flex_flow": null,
       "grid_area": null,
       "grid_auto_columns": null,
       "grid_auto_flow": null,
       "grid_auto_rows": null,
       "grid_column": null,
       "grid_gap": null,
       "grid_row": null,
       "grid_template_areas": null,
       "grid_template_columns": null,
       "grid_template_rows": null,
       "height": null,
       "justify_content": null,
       "justify_items": null,
       "left": null,
       "margin": null,
       "max_height": null,
       "max_width": null,
       "min_height": null,
       "min_width": null,
       "object_fit": null,
       "object_position": null,
       "order": null,
       "overflow": null,
       "padding": null,
       "right": null,
       "top": null,
       "visibility": null,
       "width": null
      }
     },
     "9accf8f5a6ff4a60a193619c592db0e0": {
      "model_module": "@jupyter-widgets/base",
      "model_module_version": "2.0.0",
      "model_name": "LayoutModel",
      "state": {
       "_model_module": "@jupyter-widgets/base",
       "_model_module_version": "2.0.0",
       "_model_name": "LayoutModel",
       "_view_count": null,
       "_view_module": "@jupyter-widgets/base",
       "_view_module_version": "2.0.0",
       "_view_name": "LayoutView",
       "align_content": null,
       "align_items": null,
       "align_self": null,
       "border_bottom": null,
       "border_left": null,
       "border_right": null,
       "border_top": null,
       "bottom": null,
       "display": null,
       "flex": null,
       "flex_flow": null,
       "grid_area": null,
       "grid_auto_columns": null,
       "grid_auto_flow": null,
       "grid_auto_rows": null,
       "grid_column": null,
       "grid_gap": null,
       "grid_row": null,
       "grid_template_areas": null,
       "grid_template_columns": null,
       "grid_template_rows": null,
       "height": null,
       "justify_content": null,
       "justify_items": null,
       "left": null,
       "margin": null,
       "max_height": null,
       "max_width": null,
       "min_height": null,
       "min_width": null,
       "object_fit": null,
       "object_position": null,
       "order": null,
       "overflow": null,
       "padding": null,
       "right": null,
       "top": null,
       "visibility": null,
       "width": null
      }
     },
     "9b0bf227da41434d9398cd041386895b": {
      "model_module": "@jupyter-widgets/controls",
      "model_module_version": "2.0.0",
      "model_name": "HTMLModel",
      "state": {
       "_dom_classes": [],
       "_model_module": "@jupyter-widgets/controls",
       "_model_module_version": "2.0.0",
       "_model_name": "HTMLModel",
       "_view_count": null,
       "_view_module": "@jupyter-widgets/controls",
       "_view_module_version": "2.0.0",
       "_view_name": "HTMLView",
       "description": "",
       "description_allow_html": false,
       "layout": "IPY_MODEL_c1ec6fe26fdb4b5a97ce5cd9e6cc55e4",
       "placeholder": "​",
       "style": "IPY_MODEL_b039cb59bc4c450f88f439f4a99eef39",
       "tabbable": null,
       "tooltip": null,
       "value": " 1000/1000 [1:52:06&lt;00:00,  6.78s/it]"
      }
     },
     "a391867577ed471ba65dc90c7e505fff": {
      "model_module": "@jupyter-widgets/controls",
      "model_module_version": "2.0.0",
      "model_name": "FloatProgressModel",
      "state": {
       "_dom_classes": [],
       "_model_module": "@jupyter-widgets/controls",
       "_model_module_version": "2.0.0",
       "_model_name": "FloatProgressModel",
       "_view_count": null,
       "_view_module": "@jupyter-widgets/controls",
       "_view_module_version": "2.0.0",
       "_view_name": "ProgressView",
       "bar_style": "success",
       "description": "",
       "description_allow_html": false,
       "layout": "IPY_MODEL_9accf8f5a6ff4a60a193619c592db0e0",
       "max": 1000,
       "min": 0,
       "orientation": "horizontal",
       "style": "IPY_MODEL_32380e3706fe4880ad0632891de63904",
       "tabbable": null,
       "tooltip": null,
       "value": 1000
      }
     },
     "b039cb59bc4c450f88f439f4a99eef39": {
      "model_module": "@jupyter-widgets/controls",
      "model_module_version": "2.0.0",
      "model_name": "HTMLStyleModel",
      "state": {
       "_model_module": "@jupyter-widgets/controls",
       "_model_module_version": "2.0.0",
       "_model_name": "HTMLStyleModel",
       "_view_count": null,
       "_view_module": "@jupyter-widgets/base",
       "_view_module_version": "2.0.0",
       "_view_name": "StyleView",
       "background": null,
       "description_width": "",
       "font_size": null,
       "text_color": null
      }
     },
     "c1ec6fe26fdb4b5a97ce5cd9e6cc55e4": {
      "model_module": "@jupyter-widgets/base",
      "model_module_version": "2.0.0",
      "model_name": "LayoutModel",
      "state": {
       "_model_module": "@jupyter-widgets/base",
       "_model_module_version": "2.0.0",
       "_model_name": "LayoutModel",
       "_view_count": null,
       "_view_module": "@jupyter-widgets/base",
       "_view_module_version": "2.0.0",
       "_view_name": "LayoutView",
       "align_content": null,
       "align_items": null,
       "align_self": null,
       "border_bottom": null,
       "border_left": null,
       "border_right": null,
       "border_top": null,
       "bottom": null,
       "display": null,
       "flex": null,
       "flex_flow": null,
       "grid_area": null,
       "grid_auto_columns": null,
       "grid_auto_flow": null,
       "grid_auto_rows": null,
       "grid_column": null,
       "grid_gap": null,
       "grid_row": null,
       "grid_template_areas": null,
       "grid_template_columns": null,
       "grid_template_rows": null,
       "height": null,
       "justify_content": null,
       "justify_items": null,
       "left": null,
       "margin": null,
       "max_height": null,
       "max_width": null,
       "min_height": null,
       "min_width": null,
       "object_fit": null,
       "object_position": null,
       "order": null,
       "overflow": null,
       "padding": null,
       "right": null,
       "top": null,
       "visibility": null,
       "width": null
      }
     },
     "cccf9a53d6e1406ebb3203abbde93ab0": {
      "model_module": "@jupyter-widgets/controls",
      "model_module_version": "2.0.0",
      "model_name": "HTMLStyleModel",
      "state": {
       "_model_module": "@jupyter-widgets/controls",
       "_model_module_version": "2.0.0",
       "_model_name": "HTMLStyleModel",
       "_view_count": null,
       "_view_module": "@jupyter-widgets/base",
       "_view_module_version": "2.0.0",
       "_view_name": "StyleView",
       "background": null,
       "description_width": "",
       "font_size": null,
       "text_color": null
      }
     },
     "f9f1394763f5442f969b8f5761d1e79e": {
      "model_module": "@jupyter-widgets/base",
      "model_module_version": "2.0.0",
      "model_name": "LayoutModel",
      "state": {
       "_model_module": "@jupyter-widgets/base",
       "_model_module_version": "2.0.0",
       "_model_name": "LayoutModel",
       "_view_count": null,
       "_view_module": "@jupyter-widgets/base",
       "_view_module_version": "2.0.0",
       "_view_name": "LayoutView",
       "align_content": null,
       "align_items": null,
       "align_self": null,
       "border_bottom": null,
       "border_left": null,
       "border_right": null,
       "border_top": null,
       "bottom": null,
       "display": null,
       "flex": null,
       "flex_flow": null,
       "grid_area": null,
       "grid_auto_columns": null,
       "grid_auto_flow": null,
       "grid_auto_rows": null,
       "grid_column": null,
       "grid_gap": null,
       "grid_row": null,
       "grid_template_areas": null,
       "grid_template_columns": null,
       "grid_template_rows": null,
       "height": null,
       "justify_content": null,
       "justify_items": null,
       "left": null,
       "margin": null,
       "max_height": null,
       "max_width": null,
       "min_height": null,
       "min_width": null,
       "object_fit": null,
       "object_position": null,
       "order": null,
       "overflow": null,
       "padding": null,
       "right": null,
       "top": null,
       "visibility": null,
       "width": null
      }
     }
    },
    "version_major": 2,
    "version_minor": 0
   }
  }
 },
 "nbformat": 4,
 "nbformat_minor": 2
}
