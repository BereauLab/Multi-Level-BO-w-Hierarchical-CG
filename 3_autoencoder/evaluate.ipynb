{
 "cells": [
  {
   "cell_type": "code",
   "execution_count": 1,
   "metadata": {},
   "outputs": [],
   "source": [
    "import json\n",
    "import numpy as np\n",
    "import torch\n",
    "import torch.nn as nn\n",
    "import torch_geometric as tg\n",
    "from torch_geometric.loader import DataLoader\n",
    "from pymongo import MongoClient\n",
    "from chespex.encoding import Encoder, Decoder, Autoencoder, graph_loss, prediction_to_molecules"
   ]
  },
  {
   "cell_type": "code",
   "execution_count": null,
   "metadata": {},
   "outputs": [],
   "source": [
    "level = 2 # Change here: 0, 1, or 2\n",
    "n_bead_types = [15, 45, 96][level]\n",
    "bead_types = [\n",
    "    [\"Q\", \"P\", \"N\", \"C\"],\n",
    "    [\"Q2\", \"Q1\", \"P3\", \"P2\", \"P1\", \"N3\", \"N2\", \"N1\", \"C3\", \"C2\", \"C1\", \"X2\", \"X1\"],\n",
    "    [\"Q5\", \"Q4\", \"Q3\", \"Q2\", \"Q1\", \"P6\", \"P5\", \"P4\", \"P3\", \"P2\", \"P1\", \"N6\", \"N5\", \"N4\", \"N3\", \"N2\", \"N1\", \"C6\", \"C5\", \"C4\", \"C3\", \"C2\", \"C1\", \"X4\", \"X3\", \"X2\", \"X1\"]\n",
    "][level]\n",
    "n_bead_classes = len(bead_types)"
   ]
  },
  {
   "cell_type": "code",
   "execution_count": 35,
   "metadata": {},
   "outputs": [],
   "source": [
    "client = MongoClient(\"mongodb://localhost:27017\")\n",
    "database = client.get_database(f\"molecules-4\")\n",
    "collection = database.get_collection(f\"level-{level}\")\n",
    "molecule_list = list(collection.aggregate([{\"$sample\": {\"size\": 10}}]))"
   ]
  },
  {
   "cell_type": "code",
   "execution_count": 36,
   "metadata": {},
   "outputs": [
    {
     "name": "stdout",
     "output_type": "stream",
     "text": [
      "Loading model model-4-96-5d.pt\n"
     ]
    }
   ],
   "source": [
    "model_name = f\"model-4-{n_bead_types}-5d.pt\"\n",
    "print(f\"Loading model {model_name}\")\n",
    "model = torch.load(model_name, weights_only=False)"
   ]
  },
  {
   "cell_type": "code",
   "execution_count": 37,
   "metadata": {},
   "outputs": [],
   "source": [
    "def as_torch_geometric_data(db_molecule):\n",
    "    return tg.data.Data(x=torch.Tensor(db_molecule[\"node_features\"]), edge_index=torch.Tensor(db_molecule[\"edge_index\"]).to(torch.int64))\n",
    "\n",
    "def transform(batch):\n",
    "    node_type = nn.functional.one_hot(batch.x[:, 1].to(torch.int64), n_bead_classes)\n",
    "    node_size = nn.functional.one_hot(batch.x[:, 0].to(torch.int64), 3)\n",
    "    node_charge = nn.functional.one_hot(batch.x[:, 2].to(torch.int64), 3)[:,::2]\n",
    "    node_oco_w_tfe = batch.x[:, 3:] / 10 # Octanol-water transfer free energy\n",
    "    batch.x = torch.cat([node_type, node_size, node_charge, node_oco_w_tfe], dim=1)\n",
    "    return batch.cuda()"
   ]
  },
  {
   "cell_type": "code",
   "execution_count": 38,
   "metadata": {},
   "outputs": [
    {
     "name": "stdout",
     "output_type": "stream",
     "text": [
      "['X1' 'SP1' 'SP3' 'TP2' 'TX2' 'SC3' 'TQ2' 'SC1' 'TQ1' 'TC3' 'N1' 'SX1'\n",
      " 'SN1' 'TC2' 'TC1' 'SN3' 'X2' 'C2' 'SQ2' 'SP2' 'SC2' 'SX2' 'TN3' 'TN1'\n",
      " 'TX1' 'P2' 'TP1' 'P1' 'TP3' 'P3' 'SN2' 'C3' 'N2' 'Q1' 'Q2' 'N3' 'SQ1'\n",
      " 'C1' 'TN2']\n",
      "Prediction: SC6 SP2 SP3 TC5,0-1 1-2 2-3 Truth: SC6 SP2 SP3 TC5,0-1 1-2 2-3\n",
      "Prediction: N1 SC3 SC5 X2,0-3 1-2 1-3 Truth: N1 SC3 SC5 X2,0-3 1-2 1-3\n",
      "Prediction: Q5+ SQ4- TQ1+ TQ1+,0-1 0-3 1-2 1-3 2-3 Truth: Q4+ Q5+ TQ1- TQ1-,0-1 0-2 0-3 1-3\n",
      "Prediction: N1 Q1+ SP3 TP5,0-1 1-2 1-3 2-3 Truth: N1 Q1- SP3 TP5,0-1 1-2 1-3 2-3\n",
      "Prediction: Q5- SQ5- TC3 TP4,0-1 1-3 2-3 Truth: Q5- SQ5- TC3 TP4,0-1 1-3 2-3\n",
      "Prediction: Q2+ Q4- TP1 TQ4-,0-1 0-3 2-3 Truth: Q2- Q4- SQ4- TP1,0-1 0-2 2-3\n",
      "Prediction: C3 SC6 SX4 X4,0-1 0-2 0-3 1-2 1-3 Truth: C3 SC6 SX4 X4,0-2 0-3 1-3 2-3\n",
      "Prediction: Q5- SN3 SQ4- TQ1+,0-1 1-2 2-3 Truth: Q5- SN3 SQ4+ TQ1+,0-1 1-2 2-3\n",
      "Prediction: C1 SP1 TQ5+ TX4,0-1 0-3 2-3 Truth: C1 SP1 TQ5+ TX4,0-1 0-3 2-3\n",
      "Prediction: SC4 SN5 TP1 TQ2-,0-1 0-2 0-3 2-3 Truth: SC4 SN5 TP1 TQ2-,0-1 0-2 0-3 2-3\n"
     ]
    }
   ],
   "source": [
    "with open(\"../bead_types/bead-types.json\", \"r\") as bead_types_file:\n",
    "    bead_class_names = np.array(list(set([b[\"name\"].replace(\"+\", \"\").replace(\"-\", \"\") for b in json.load(bead_types_file)[1]])))\n",
    "print(bead_class_names)\n",
    "torch_molecules = [as_torch_geometric_data(molecule) for molecule in molecule_list]\n",
    "torch_molecules = next(iter(DataLoader(torch_molecules, batch_size=len(torch_molecules), shuffle=False)))\n",
    "torch_molecules = transform(torch_molecules)\n",
    "predicted_nodes, predicted_adjacency_matrix = model(torch_molecules)\n",
    "predicted_molecules = prediction_to_molecules(\n",
    "    predicted_nodes, predicted_adjacency_matrix, bead_types\n",
    ")\n",
    "for prediction, molecule in zip(predicted_molecules, molecule_list):\n",
    "    print(\"Prediction:\", prediction, \"Truth:\", molecule[\"name\"])"
   ]
  },
  {
   "cell_type": "code",
   "execution_count": 39,
   "metadata": {},
   "outputs": [
    {
     "name": "stdout",
     "output_type": "stream",
     "text": [
      "Total accuracy: Edges: 0.986, Class: 0.979, Size: 0.986, Charge: 0.998\n"
     ]
    }
   ],
   "source": [
    "collection = database.get_collection(f\"level-{level}\")\n",
    "molecule_list = list(collection.aggregate([{\"$sample\": {\"size\": 100_000}}]) if level > 0 else collection.find())\n",
    "torch_molecules = [as_torch_geometric_data(molecule) for molecule in molecule_list]\n",
    "dataloader = DataLoader(torch_molecules, batch_size=16384, shuffle=False, num_workers=2)\n",
    "accurracy = np.zeros(5)\n",
    "for batch in dataloader:\n",
    "    batch = transform(batch)\n",
    "    predicted_nodes, predicted_adjacency_matrix = model(batch)\n",
    "    loss, accuracy = graph_loss(batch, predicted_nodes, predicted_adjacency_matrix, return_accuracy=True)\n",
    "    accurracy[:-1] += accuracy * len(batch)\n",
    "    accurracy[-1] += len(batch)\n",
    "accurracy = accurracy / accurracy[-1]\n",
    "print(f'Total accuracy: Edges: {accurracy[0]:.3f}, Class: {accurracy[1]:.3f}, Size: {accurracy[2]:.3f}, Charge: {accurracy[3]:.3f}')"
   ]
  }
 ],
 "metadata": {
  "kernelspec": {
   "display_name": "Python 3 (ipykernel)",
   "language": "python",
   "name": "python3"
  },
  "language_info": {
   "codemirror_mode": {
    "name": "ipython",
    "version": 3
   },
   "file_extension": ".py",
   "mimetype": "text/x-python",
   "name": "python",
   "nbconvert_exporter": "python",
   "pygments_lexer": "ipython3",
   "version": "3.11.8"
  }
 },
 "nbformat": 4,
 "nbformat_minor": 2
}
