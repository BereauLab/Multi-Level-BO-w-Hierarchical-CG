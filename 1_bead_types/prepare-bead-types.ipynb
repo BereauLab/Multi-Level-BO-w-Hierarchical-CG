{
 "cells": [
  {
   "cell_type": "code",
   "execution_count": 1,
   "metadata": {},
   "outputs": [],
   "source": [
    "import json\n",
    "import numpy as np\n",
    "import pandas as pd"
   ]
  },
  {
   "cell_type": "markdown",
   "metadata": {},
   "source": [
    "Define bead mapping"
   ]
  },
  {
   "cell_type": "code",
   "execution_count": 2,
   "metadata": {},
   "outputs": [
    {
     "name": "stdout",
     "output_type": "stream",
     "text": [
      "{'Q': ['Q5', 'Q4', 'Q3', 'Q2', 'Q1'], 'P': ['P6', 'P5', 'P4', 'P3', 'P2', 'P1'], 'N': ['N6', 'N5', 'N4', 'N3', 'N2', 'N1'], 'C': ['C6', 'C5', 'C4', 'C3', 'C2', 'C1', 'X4', 'X3', 'X2', 'X1']}\n",
      "{'Q2': ['Q5', 'Q4', 'Q3'], 'Q1': ['Q2', 'Q1'], 'P3': ['P6', 'P5'], 'P2': ['P4', 'P3'], 'P1': ['P2', 'P1'], 'N3': ['N6', 'N5'], 'N2': ['N4', 'N3'], 'N1': ['N2', 'N1'], 'C3': ['C6', 'C5'], 'C2': ['C4', 'C3'], 'C1': ['C2', 'C1'], 'X2': ['X4', 'X3'], 'X1': ['X2', 'X1']}\n",
      "{'Q5': ['Q5'], 'Q4': ['Q4'], 'Q3': ['Q3'], 'Q2': ['Q2'], 'Q1': ['Q1'], 'P6': ['P6'], 'P5': ['P5'], 'P4': ['P4'], 'P3': ['P3'], 'P2': ['P2'], 'P1': ['P1'], 'N6': ['N6'], 'N5': ['N5'], 'N4': ['N4'], 'N3': ['N3'], 'N2': ['N2'], 'N1': ['N1'], 'C6': ['C6'], 'C5': ['C5'], 'C4': ['C4'], 'C3': ['C3'], 'C2': ['C2'], 'C1': ['C1'], 'X4': ['X4'], 'X3': ['X3'], 'X2': ['X2'], 'X1': ['X1']}\n"
     ]
    }
   ],
   "source": [
    "all_beads = ['Q5', 'Q4', 'Q3', 'Q2', 'Q1', 'P6', 'P5', 'P4', 'P3', 'P2', 'P1', 'N6', 'N5', 'N4', 'N3', 'N2', 'N1', 'C6', 'C5', 'C4', 'C3', 'C2', 'C1', 'X4', 'X3', 'X2', 'X1']\n",
    "mapping = [\n",
    "    {\n",
    "        'Q': 'Q5 Q4 Q3 Q2 Q1',\n",
    "        'P': 'P6 P5 P4 P3 P2 P1',\n",
    "        'N': 'N6 N5 N4 N3 N2 N1',\n",
    "        'C': 'C6 C5 C4 C3 C2 C1 X4 X3 X2 X1'\n",
    "    },\n",
    "    {\n",
    "        'Q2': 'Q5 Q4 Q3',\n",
    "        'Q1': 'Q2 Q1',\n",
    "        'P3': 'P6 P5',\n",
    "        'P2': 'P4 P3',\n",
    "        'P1': 'P2 P1',\n",
    "        'N3': 'N6 N5',\n",
    "        'N2': 'N4 N3',\n",
    "        'N1': 'N2 N1',\n",
    "        'C3': 'C6 C5',\n",
    "        'C2': 'C4 C3',\n",
    "        'C1': 'C2 C1',\n",
    "        'X2': 'X4 X3',\n",
    "        'X1': 'X2 X1'\n",
    "    },\n",
    "    {b: [b] for b in all_beads}\n",
    "]\n",
    "for i in range(2):\n",
    "    for j in mapping[i].keys():\n",
    "        mapping[i][j] = mapping[i][j].split()\n",
    "for level in mapping:\n",
    "    print(level)"
   ]
  },
  {
   "cell_type": "code",
   "execution_count": 3,
   "metadata": {},
   "outputs": [],
   "source": [
    "octanol_tfe_data = pd.read_csv('martini3-oco-w.csv', delimiter=';')\n",
    "octanol_tfe = {}\n",
    "for (idx, row) in octanol_tfe_data.iterrows():\n",
    "    octanol_tfe[row.loc['Bead Type']] = row.loc['Regular']\n",
    "    octanol_tfe['S' + row.loc['Bead Type']] = row.loc['Small']\n",
    "    octanol_tfe['T' + row.loc['Bead Type']] = row.loc['Tiny']"
   ]
  },
  {
   "cell_type": "code",
   "execution_count": 4,
   "metadata": {},
   "outputs": [],
   "source": [
    "bead_types = []\n",
    "for level in range(len(mapping)):\n",
    "    level_bead_types = []\n",
    "    for size_index, size in enumerate(['', 'S', 'T']):\n",
    "        for type_index, key in enumerate(mapping[level].keys()):\n",
    "            for charge in ['+', '-'] if 'Q' in key else ['']:\n",
    "                bead_type = {'name': f'{size}{key}{charge}', 'size': size_index, 'id': type_index, 'charge_type': ['-', '', '+'].index(charge)}\n",
    "                octanol_tfe_value = np.mean([octanol_tfe[f'{size}{x}'] for x in mapping[level][key]])\n",
    "                bead_type['oco_w_tfe'] = round(octanol_tfe_value, 5)\n",
    "                level_bead_types.append(bead_type)\n",
    "    bead_types.append(level_bead_types)"
   ]
  },
  {
   "cell_type": "code",
   "execution_count": 5,
   "metadata": {},
   "outputs": [
    {
     "data": {
      "text/plain": [
       "[{'name': 'Q+', 'size': 0, 'id': 0, 'charge_type': 2, 'oco_w_tfe': -17.04},\n",
       " {'name': 'Q-', 'size': 0, 'id': 0, 'charge_type': 0, 'oco_w_tfe': -17.04},\n",
       " {'name': 'P', 'size': 0, 'id': 1, 'charge_type': 1, 'oco_w_tfe': -6.1},\n",
       " {'name': 'N', 'size': 0, 'id': 2, 'charge_type': 1, 'oco_w_tfe': 2.76667},\n",
       " {'name': 'C', 'size': 0, 'id': 3, 'charge_type': 1, 'oco_w_tfe': 13.18},\n",
       " {'name': 'SQ+', 'size': 1, 'id': 0, 'charge_type': 2, 'oco_w_tfe': -15.86},\n",
       " {'name': 'SQ-', 'size': 1, 'id': 0, 'charge_type': 0, 'oco_w_tfe': -15.86},\n",
       " {'name': 'SP', 'size': 1, 'id': 1, 'charge_type': 1, 'oco_w_tfe': -8.9},\n",
       " {'name': 'SN', 'size': 1, 'id': 2, 'charge_type': 1, 'oco_w_tfe': -0.8},\n",
       " {'name': 'SC', 'size': 1, 'id': 3, 'charge_type': 1, 'oco_w_tfe': 8.22},\n",
       " {'name': 'TQ+', 'size': 2, 'id': 0, 'charge_type': 2, 'oco_w_tfe': -16.14},\n",
       " {'name': 'TQ-', 'size': 2, 'id': 0, 'charge_type': 0, 'oco_w_tfe': -16.14},\n",
       " {'name': 'TP', 'size': 2, 'id': 1, 'charge_type': 1, 'oco_w_tfe': -11.31667},\n",
       " {'name': 'TN', 'size': 2, 'id': 2, 'charge_type': 1, 'oco_w_tfe': -2.4},\n",
       " {'name': 'TC', 'size': 2, 'id': 3, 'charge_type': 1, 'oco_w_tfe': 6.19}]"
      ]
     },
     "execution_count": 5,
     "metadata": {},
     "output_type": "execute_result"
    }
   ],
   "source": [
    "bead_types[0]"
   ]
  },
  {
   "cell_type": "code",
   "execution_count": 6,
   "metadata": {},
   "outputs": [],
   "source": [
    "with open('bead-types.json', 'w') as f:\n",
    "    json.dump(bead_types, f, indent=2)\n",
    "with open('mapping.json', 'w') as f:\n",
    "    json.dump(mapping, f, indent=2)"
   ]
  }
 ],
 "metadata": {
  "kernelspec": {
   "display_name": "conda-ml",
   "language": "python",
   "name": "python3"
  },
  "language_info": {
   "codemirror_mode": {
    "name": "ipython",
    "version": 3
   },
   "file_extension": ".py",
   "mimetype": "text/x-python",
   "name": "python",
   "nbconvert_exporter": "python",
   "pygments_lexer": "ipython3",
   "version": "3.11.7"
  }
 },
 "nbformat": 4,
 "nbformat_minor": 2
}
